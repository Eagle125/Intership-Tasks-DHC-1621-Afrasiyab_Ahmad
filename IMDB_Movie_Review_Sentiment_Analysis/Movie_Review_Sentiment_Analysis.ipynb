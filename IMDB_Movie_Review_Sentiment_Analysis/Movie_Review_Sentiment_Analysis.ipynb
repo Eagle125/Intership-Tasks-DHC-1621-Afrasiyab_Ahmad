{
 "cells": [
  {
   "cell_type": "code",
   "execution_count": 44,
   "metadata": {},
   "outputs": [],
   "source": [
    "import pandas as pd \n",
    "import numpy as np \n",
    "import matplotlib.pyplot as plt\n",
    "import seaborn as sns\n",
    "import pandas as pd\n",
    "from sklearn.feature_extraction.text import TfidfVectorizer\n",
    "from sklearn.model_selection import train_test_split\n",
    "from sklearn.naive_bayes import MultinomialNB\n",
    "from sklearn.linear_model import LogisticRegression\n",
    "from sklearn.metrics import accuracy_score, f1_score\n",
    "\n"
   ]
  },
  {
   "cell_type": "code",
   "execution_count": 45,
   "metadata": {},
   "outputs": [
    {
     "data": {
      "text/html": [
       "<div>\n",
       "<style scoped>\n",
       "    .dataframe tbody tr th:only-of-type {\n",
       "        vertical-align: middle;\n",
       "    }\n",
       "\n",
       "    .dataframe tbody tr th {\n",
       "        vertical-align: top;\n",
       "    }\n",
       "\n",
       "    .dataframe thead th {\n",
       "        text-align: right;\n",
       "    }\n",
       "</style>\n",
       "<table border=\"1\" class=\"dataframe\">\n",
       "  <thead>\n",
       "    <tr style=\"text-align: right;\">\n",
       "      <th></th>\n",
       "      <th>review</th>\n",
       "      <th>sentiment</th>\n",
       "    </tr>\n",
       "  </thead>\n",
       "  <tbody>\n",
       "    <tr>\n",
       "      <th>0</th>\n",
       "      <td>One of the other reviewers has mentioned that ...</td>\n",
       "      <td>positive</td>\n",
       "    </tr>\n",
       "    <tr>\n",
       "      <th>1</th>\n",
       "      <td>A wonderful little production. &lt;br /&gt;&lt;br /&gt;The...</td>\n",
       "      <td>positive</td>\n",
       "    </tr>\n",
       "    <tr>\n",
       "      <th>2</th>\n",
       "      <td>I thought this was a wonderful way to spend ti...</td>\n",
       "      <td>positive</td>\n",
       "    </tr>\n",
       "    <tr>\n",
       "      <th>3</th>\n",
       "      <td>Basically there's a family where a little boy ...</td>\n",
       "      <td>negative</td>\n",
       "    </tr>\n",
       "    <tr>\n",
       "      <th>4</th>\n",
       "      <td>Petter Mattei's \"Love in the Time of Money\" is...</td>\n",
       "      <td>positive</td>\n",
       "    </tr>\n",
       "  </tbody>\n",
       "</table>\n",
       "</div>"
      ],
      "text/plain": [
       "                                              review sentiment\n",
       "0  One of the other reviewers has mentioned that ...  positive\n",
       "1  A wonderful little production. <br /><br />The...  positive\n",
       "2  I thought this was a wonderful way to spend ti...  positive\n",
       "3  Basically there's a family where a little boy ...  negative\n",
       "4  Petter Mattei's \"Love in the Time of Money\" is...  positive"
      ]
     },
     "execution_count": 45,
     "metadata": {},
     "output_type": "execute_result"
    }
   ],
   "source": [
    "# Load the data\n",
    "df = pd.read_csv('IMDB Dataset.csv')\n",
    "df.head()"
   ]
  },
  {
   "cell_type": "code",
   "execution_count": 46,
   "metadata": {},
   "outputs": [
    {
     "data": {
      "text/plain": [
       "review       0\n",
       "sentiment    0\n",
       "dtype: int64"
      ]
     },
     "execution_count": 46,
     "metadata": {},
     "output_type": "execute_result"
    }
   ],
   "source": [
    "pd.isnull(df).sum()"
   ]
  },
  {
   "cell_type": "code",
   "execution_count": 47,
   "metadata": {},
   "outputs": [],
   "source": [
    "df['sentiment'] = df['sentiment'].map({'positive': 1, 'negative': 0})"
   ]
  },
  {
   "cell_type": "code",
   "execution_count": 48,
   "metadata": {},
   "outputs": [],
   "source": [
    "X = df['review']\n",
    "y = df['sentiment']"
   ]
  },
  {
   "cell_type": "code",
   "execution_count": 49,
   "metadata": {},
   "outputs": [],
   "source": [
    "X_train, X_test, y_train, y_test = train_test_split(X, y, test_size=0.2, random_state=42)"
   ]
  },
  {
   "cell_type": "code",
   "execution_count": 50,
   "metadata": {},
   "outputs": [],
   "source": [
    "# Vectorize the text data using TF-IDF\n",
    "vectorizer = TfidfVectorizer(lowercase=True, stop_words='english', max_features=10000)\n",
    "X_train_vec = vectorizer.fit_transform(X_train)\n",
    "X_test_vec = vectorizer.transform(X_test)"
   ]
  },
  {
   "cell_type": "code",
   "execution_count": 51,
   "metadata": {},
   "outputs": [],
   "source": [
    "# Define a function to train and evaluate a model\n",
    "def train_and_evaluate(model, X_train, y_train, X_test, y_test):\n",
    "    \"\"\"Train a model and evaluate its performance on the test set.\"\"\"\n",
    "    model.fit(X_train, y_train)\n",
    "    y_pred = model.predict(X_test)\n",
    "    accuracy = accuracy_score(y_test, y_pred)\n",
    "    f1 = f1_score(y_test, y_pred)\n",
    "    print(f\"Model: {model.__class__.__name__}\")\n",
    "    print(f\"Accuracy: {accuracy:.4f}\")\n",
    "    print(f\"F1-score: {f1:.4f}\")\n",
    "    print()\n",
    "    return accuracy, f1"
   ]
  },
  {
   "cell_type": "code",
   "execution_count": 52,
   "metadata": {},
   "outputs": [],
   "source": [
    "# Initialize the models\n",
    "nb_model = MultinomialNB()  # Multinomial Naïve Bayes model\n",
    "lr_model = LogisticRegression(solver='saga', max_iter=1000) "
   ]
  },
  {
   "cell_type": "code",
   "execution_count": 53,
   "metadata": {},
   "outputs": [
    {
     "name": "stdout",
     "output_type": "stream",
     "text": [
      "Evaluating Multinomial Naïve Bayes:\n",
      "Model: MultinomialNB\n",
      "Accuracy: 0.8576\n",
      "F1-score: 0.8584\n",
      "\n",
      "Evaluating Logistic Regression:\n",
      "Model: LogisticRegression\n",
      "Accuracy: 0.8904\n",
      "F1-score: 0.8931\n",
      "\n"
     ]
    }
   ],
   "source": [
    "# Train and evaluate both models, storing the metrics\n",
    "print(\"Evaluating Multinomial Naïve Bayes:\")\n",
    "nb_accuracy, nb_f1 = train_and_evaluate(nb_model, X_train_vec, y_train, X_test_vec, y_test)\n",
    "print(\"Evaluating Logistic Regression:\")\n",
    "lr_accuracy, lr_f1 = train_and_evaluate(lr_model, X_train_vec, y_train, X_test_vec, y_test)"
   ]
  },
  {
   "cell_type": "code",
   "execution_count": 54,
   "metadata": {},
   "outputs": [
    {
     "data": {
      "image/png": "[encoded data removed]",
      "text/plain": [
       "<Figure size 800x500 with 1 Axes>"
      ]
     },
     "metadata": {},
     "output_type": "display_data"
    }
   ],
   "source": [
    "import matplotlib.pyplot as plt\n",
    "\n",
    "plt.figure(figsize=(8, 5), facecolor='#f5f5f5')\n",
    "bar_width, index = 0.35, [0, 1]\n",
    "\n",
    "for i, (lbl, vals, col) in enumerate([('Accuracy', [nb_accuracy, lr_accuracy], '#4da8da'), ('F1-Score', [nb_f1, lr_f1], '#ff6f61')]):\n",
    "    x = [j + i * bar_width for j in index]\n",
    "    plt.bar(x, vals, bar_width, label=lbl, color=col, edgecolor='black', linewidth=1, alpha=0.9)\n",
    "    [plt.text(xi, v + 0.02, f'{v:.4f}', ha='center', va='bottom', fontsize=10, fontweight='bold') for xi, v in zip(x, vals)]\n",
    "    \n",
    "plt.xticks([i + bar_width / 2 for i in index], ['Naïve Bayes', 'Logistic Regression'], fontsize=12, fontweight='bold')\n",
    "plt.ylabel('Score', fontsize=14, fontweight='bold')\n",
    "plt.title('Model Performance\\n(Higher scores indicate better performance)', fontsize=16, fontweight='bold', pad=15)\n",
    "plt.grid(axis='y', linestyle='--', alpha=0.7, color='gray')\n",
    "plt.legend(fontsize=12, frameon=True, facecolor='white', edgecolor='black')\n",
    "plt.ylim(0, 1.1)\n",
    "plt.gca().set_facecolor('#f5f5f5')\n",
    "plt.tight_layout()\n",
    "plt.show()"
   ]
  },
  {
   "cell_type": "code",
   "execution_count": 55,
   "metadata": {},
   "outputs": [],
   "source": [
    "# Define a function to predict sentiment for a new review\n",
    "def predict_sentiment(review, model, vectorizer):\n",
    "    \"\"\"Predict sentiment of a review using the specified model.\"\"\"\n",
    "    review_vec = vectorizer.transform([review])\n",
    "    prediction = model.predict(review_vec)\n",
    "    return 'positive' if prediction[0] == 1 else 'negative'"
   ]
  },
  {
   "cell_type": "code",
   "execution_count": 56,
   "metadata": {},
   "outputs": [
    {
     "name": "stdout",
     "output_type": "stream",
     "text": [
      "Sample review sentiment (Naïve Bayes): positive\n",
      "Sample review sentiment (Logistic Regression): positive\n"
     ]
    }
   ],
   "source": [
    "sample_review = \"This movie was fantastic! I really enjoyed it.\"\n",
    "print(f\"Sample review sentiment (Naïve Bayes): {predict_sentiment(sample_review, nb_model, vectorizer)}\")\n",
    "print(f\"Sample review sentiment (Logistic Regression): {predict_sentiment(sample_review, lr_model, vectorizer)}\")"
   ]
  },
  {
   "cell_type": "code",
   "execution_count": 57,
   "metadata": {},
   "outputs": [
    {
     "name": "stdout",
     "output_type": "stream",
     "text": [
      "Sample review sentiment (Naïve Bayes): negative\n",
      "Sample review sentiment (Logistic Regression): negative\n"
     ]
    }
   ],
   "source": [
    "sample_review = \"This film was a complete disaster. The acting was terrible, and the plot made no sense.\"\n",
    "print(f\"Sample review sentiment (Naïve Bayes): {predict_sentiment(sample_review, nb_model, vectorizer)}\")\n",
    "print(f\"Sample review sentiment (Logistic Regression): {predict_sentiment(sample_review, lr_model, vectorizer)}\")"
   ]
  },
  {
   "cell_type": "markdown",
   "metadata": {},
   "source": [
    "# Approach\n",
    "###  Data Loading and Cleaning:\n",
    "\n",
    "Loads IMDb dataset from IMDb_Dataset.csv.\n",
    "Drops rows with missing values (if any).\n",
    "\n",
    "### Label Mapping:\n",
    "\n",
    "Maps sentiments: 'positive' --> 1, 'negative' --> 0.\n",
    "\n",
    "### Data Splitting:\n",
    "\n",
    "Splits data into 80% training and 20% testing sets (random_state=42).\n",
    "\n",
    "### Text Vectorization:\n",
    "\n",
    "Applies TfidfVectorizer with lowercase conversion, English stop words removal, and 10,000 max features.\n",
    "### Model Training and Evaluation:\n",
    "Trains Multinomial Naive Bayes and Logistic Regression (solver='saga', max_iter=1000).\n",
    "Evaluates using accuracy and F1-score, printed for both models.\n",
    "\n",
    "### Prediction Function:\n",
    "Defines predict_sentiment to classify new reviews using either model.\n",
    "Testing with Negative Reviews:\n",
    "Tests five hardcoded negative reviews, printing predictions from both models.\n",
    "\n",
    "### Visualization:\n",
    "Creates a bar chart comparing accuracy and F1-scores for both models.\n"
   ]
  },
  {
   "cell_type": "markdown",
   "metadata": {},
   "source": [
    "# Challenges\n",
    "### Text Preprocessing:\n",
    "Uses basic TF-IDF (lowercasing, stop words); lacks advanced steps like lemmatization or negation handling.\n",
    "### Feature Selection:\n",
    "Limits to 10,000 features, which may omit useful terms in a large dataset.\n",
    "### Model Complexity:\n",
    "Naive Bayes assumes feature independence, potentially oversimplifying text relationships.\n",
    "Logistic Regression lacks hyperparameter tuning (e.g., regularization strength).\n",
    "### Class Balance:\n",
    "No check for sentiment imbalance; skewed data could bias results.\n",
    "### Evaluation Metrics:\n",
    "Relies on accuracy and F1-score; precision or recall could reveal more, especially if imbalanced.\n",
    "### Visualization:\n",
    "Simple bar chart; adding data labels or grouping could improve clarity."
   ]
  }
 ],
 "metadata": {
  "kernelspec": {
   "display_name": "base",
   "language": "python",
   "name": "python3"
  },
  "language_info": {
   "codemirror_mode": {
    "name": "ipython",
    "version": 3
   },
   "file_extension": ".py",
   "mimetype": "text/x-python",
   "name": "python",
   "nbconvert_exporter": "python",
   "pygments_lexer": "ipython3",
   "version": "3.12.4"
  }
 },
 "nbformat": 4,
 "nbformat_minor": 2
}
