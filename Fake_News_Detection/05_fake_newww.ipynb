{
 "cells": [
  {
   "cell_type": "code",
   "execution_count": 1,
   "metadata": {},
   "outputs": [],
   "source": [
    "import pandas as pd\n",
    "import numpy as np\n",
    "import re\n",
    "import nltk\n",
    "from nltk.corpus import stopwords\n",
    "from nltk.stem import WordNetLemmatizer\n",
    "from sklearn.model_selection import train_test_split\n",
    "from sklearn.feature_extraction.text import TfidfVectorizer\n",
    "from sklearn.naive_bayes import MultinomialNB\n",
    "from sklearn.ensemble import RandomForestClassifier\n",
    "from sklearn.metrics import accuracy_score, classification_report\n",
    "from sklearn.preprocessing import LabelEncoder\n",
    "from tensorflow.keras.preprocessing.text import Tokenizer\n",
    "from tensorflow.keras.preprocessing.sequence import pad_sequences\n",
    "from tensorflow.keras.models import Sequential\n",
    "from tensorflow.keras.layers import Embedding, LSTM, Dense, Dropout"
   ]
  },
  {
   "cell_type": "code",
   "execution_count": 2,
   "metadata": {},
   "outputs": [
    {
     "name": "stderr",
     "output_type": "stream",
     "text": [
      "[nltk_data] Downloading package stopwords to\n",
      "[nltk_data]     C:\\Users\\DELL\\AppData\\Roaming\\nltk_data...\n",
      "[nltk_data]   Package stopwords is already up-to-date!\n",
      "[nltk_data] Downloading package wordnet to\n",
      "[nltk_data]     C:\\Users\\DELL\\AppData\\Roaming\\nltk_data...\n",
      "[nltk_data]   Package wordnet is already up-to-date!\n"
     ]
    },
    {
     "data": {
      "text/plain": [
       "True"
      ]
     },
     "execution_count": 2,
     "metadata": {},
     "output_type": "execute_result"
    }
   ],
   "source": [
    "# Download NLTK data\n",
    "nltk.download('stopwords')\n",
    "nltk.download('wordnet')"
   ]
  },
  {
   "cell_type": "code",
   "execution_count": 3,
   "metadata": {},
   "outputs": [],
   "source": [
    "# Define preprocessing function\n",
    "stop_words = set(stopwords.words('english'))\n",
    "lemmatizer = WordNetLemmatizer()"
   ]
  },
  {
   "cell_type": "code",
   "execution_count": 4,
   "metadata": {},
   "outputs": [],
   "source": [
    "def preprocess_text(text):\n",
    "    \"\"\"Preprocess text by converting to lowercase, removing punctuation/numbers, stopwords, and lemmatizing.\"\"\"\n",
    "    if not isinstance(text, str) or text.strip() == \"\":\n",
    "        return \"\"\n",
    "    text = text.lower()\n",
    "    text = re.sub(r'[^\\w\\s]', '', text)\n",
    "    text = re.sub(r'\\d+', '', text)\n",
    "    words = text.split()\n",
    "    words = [word for word in words if word not in stop_words]\n",
    "    words = [lemmatizer.lemmatize(word) for word in words]\n",
    "    return ' '.join(words) if words else \"\""
   ]
  },
  {
   "cell_type": "code",
   "execution_count": 5,
   "metadata": {},
   "outputs": [],
   "source": [
    "# Load the dataset\n",
    "df = pd.read_csv('news.csv')\n",
    "\n",
    "# Drop rows with missing values in title text or label\n",
    "df = df.dropna(subset=['title', 'text', 'label'])"
   ]
  },
  {
   "cell_type": "code",
   "execution_count": 6,
   "metadata": {},
   "outputs": [
    {
     "name": "stdout",
     "output_type": "stream",
     "text": [
      "\n",
      "Creating 'combined' column...\n"
     ]
    }
   ],
   "source": [
    "# Create 'combined' column\n",
    "print(\"\\nCreating 'combined' column...\")\n",
    "df['combined'] = df['title'] + ' [SEP] ' + df['text']\n",
    "df['combined'] = df['combined'].apply(preprocess_text)"
   ]
  },
  {
   "cell_type": "code",
   "execution_count": 7,
   "metadata": {},
   "outputs": [
    {
     "name": "stdout",
     "output_type": "stream",
     "text": [
      "Sample of 'combined' after preprocessing:\n",
      "0    smell hillary fear sep daniel greenfield shill...\n",
      "1    watch exact moment paul ryan committed politic...\n",
      "2    kerry go paris gesture sympathy sep u secretar...\n",
      "3    bernie supporter twitter erupt anger dnc tried...\n",
      "4    battle new york primary matter sep primary day...\n",
      "Name: combined, dtype: object\n",
      "Number of empty 'combined' entries: 0\n"
     ]
    }
   ],
   "source": [
    "# Check 'combined' column content\n",
    "print(\"Sample of 'combined' after preprocessing:\")\n",
    "print(df['combined'].head())\n",
    "print(\"Number of empty 'combined' entries:\", (df['combined'] == \"\").sum())"
   ]
  },
  {
   "cell_type": "code",
   "execution_count": 8,
   "metadata": {},
   "outputs": [
    {
     "name": "stdout",
     "output_type": "stream",
     "text": [
      "Rows remaining after filtering empty 'combined': 6335\n"
     ]
    }
   ],
   "source": [
    "# Filter out rows with empty 'combined' after preprocessing\n",
    "df = df[df['combined'] != \"\"]\n",
    "print(f\"Rows remaining after filtering empty 'combined': {len(df)}\")"
   ]
  },
  {
   "cell_type": "code",
   "execution_count": 9,
   "metadata": {},
   "outputs": [
    {
     "name": "stdout",
     "output_type": "stream",
     "text": [
      "\n",
      "Applying LabelEncoder to 'label' column...\n"
     ]
    }
   ],
   "source": [
    "# Apply LabelEncoder to 'label'\n",
    "print(\"\\nApplying LabelEncoder to 'label' column...\")\n",
    "label_encoder = LabelEncoder()\n",
    "df['label'] = label_encoder.fit_transform(df['label'])"
   ]
  },
  {
   "cell_type": "code",
   "execution_count": 10,
   "metadata": {},
   "outputs": [
    {
     "name": "stdout",
     "output_type": "stream",
     "text": [
      "Missing values in 'combined': 0\n",
      "Missing values in 'label': 0\n"
     ]
    }
   ],
   "source": [
    "# Check for missing values\n",
    "print(\"Missing values in 'combined':\", df['combined'].isnull().sum())\n",
    "print(\"Missing values in 'label':\", df['label'].isnull().sum())"
   ]
  },
  {
   "cell_type": "code",
   "execution_count": 11,
   "metadata": {},
   "outputs": [
    {
     "name": "stdout",
     "output_type": "stream",
     "text": [
      "\n",
      "Vectorizing text data for Naive Bayes and Random Forest...\n"
     ]
    },
    {
     "name": "stdout",
     "output_type": "stream",
     "text": [
      "Vocabulary size: 5000\n"
     ]
    }
   ],
   "source": [
    "# TF-IDF Vectorization\n",
    "print(\"\\nVectorizing text data for Naive Bayes and Random Forest...\")\n",
    "vectorizer = TfidfVectorizer(max_features=5000)\n",
    "X = vectorizer.fit_transform(df['combined'])\n",
    "y = df['label']\n",
    "\n",
    "print(\"Vocabulary size:\", len(vectorizer.vocabulary_))"
   ]
  },
  {
   "cell_type": "code",
   "execution_count": 12,
   "metadata": {},
   "outputs": [],
   "source": [
    "# Split the data for Naive Bayes and Random Forest\n",
    "X_train, X_test, y_train, y_test = train_test_split(X, y, test_size=0.2, random_state=42)"
   ]
  },
  {
   "cell_type": "code",
   "execution_count": 13,
   "metadata": {},
   "outputs": [
    {
     "name": "stdout",
     "output_type": "stream",
     "text": [
      "\n",
      "Training Naive Bayes model...\n",
      "Naive Bayes Results:\n",
      "Accuracy: 0.8863456985003947\n",
      "              precision    recall  f1-score   support\n",
      "\n",
      "           0       0.87      0.90      0.89       628\n",
      "           1       0.90      0.87      0.89       639\n",
      "\n",
      "    accuracy                           0.89      1267\n",
      "   macro avg       0.89      0.89      0.89      1267\n",
      "weighted avg       0.89      0.89      0.89      1267\n",
      "\n"
     ]
    }
   ],
   "source": [
    "# Train and evaluate Naive Bayes\n",
    "print(\"\\nTraining Naive Bayes model...\")\n",
    "nb_model = MultinomialNB()\n",
    "nb_model.fit(X_train, y_train)\n",
    "y_pred_nb = nb_model.predict(X_test)\n",
    "nb_accuracy = accuracy_score(y_test, y_pred_nb)\n",
    "nb_report = classification_report(y_test, y_pred_nb, output_dict=True)\n",
    "print(\"Naive Bayes Results:\")\n",
    "print(\"Accuracy:\", accuracy_score(y_test, y_pred_nb))\n",
    "print(classification_report(y_test, y_pred_nb))"
   ]
  },
  {
   "cell_type": "code",
   "execution_count": 14,
   "metadata": {},
   "outputs": [
    {
     "name": "stdout",
     "output_type": "stream",
     "text": [
      "\n",
      "Training Random Forest model...\n",
      "Random Forest Results:\n",
      "Accuracy: 0.904498816101026\n",
      "              precision    recall  f1-score   support\n",
      "\n",
      "           0       0.90      0.91      0.90       628\n",
      "           1       0.91      0.90      0.90       639\n",
      "\n",
      "    accuracy                           0.90      1267\n",
      "   macro avg       0.90      0.90      0.90      1267\n",
      "weighted avg       0.90      0.90      0.90      1267\n",
      "\n"
     ]
    }
   ],
   "source": [
    "# Train and evaluate Random Forest\n",
    "print(\"\\nTraining Random Forest model...\")\n",
    "rf_model = RandomForestClassifier(n_estimators=100, random_state=42)\n",
    "rf_model.fit(X_train, y_train)\n",
    "y_pred_rf = rf_model.predict(X_test)\n",
    "rf_accuracy = accuracy_score(y_test, y_pred_rf)\n",
    "rf_report = classification_report(y_test, y_pred_rf, output_dict=True)\n",
    "print(\"Random Forest Results:\")\n",
    "print(\"Accuracy:\", accuracy_score(y_test, y_pred_rf))\n",
    "print(classification_report(y_test, y_pred_rf))"
   ]
  },
  {
   "cell_type": "code",
   "execution_count": 15,
   "metadata": {},
   "outputs": [
    {
     "name": "stdout",
     "output_type": "stream",
     "text": [
      "\n",
      "Preparing data for LSTM...\n"
     ]
    }
   ],
   "source": [
    "# --- LSTM ---\n",
    "\n",
    "# Prepare data for LSTM\n",
    "print(\"\\nPreparing data for LSTM...\")\n",
    "tokenizer = Tokenizer(num_words=5000)\n",
    "tokenizer.fit_on_texts(df['combined'])\n",
    "sequences = tokenizer.texts_to_sequences(df['combined'])\n",
    "max_sequence_length = 500\n",
    "X_lstm = pad_sequences(sequences, maxlen=max_sequence_length)\n",
    "y_lstm = df['label'].values"
   ]
  },
  {
   "cell_type": "code",
   "execution_count": 16,
   "metadata": {},
   "outputs": [],
   "source": [
    "# Split the data for LSTM\n",
    "X_train_lstm, X_test_lstm, y_train_lstm, y_test_lstm = train_test_split(X_lstm, y_lstm, test_size=0.2, random_state=42)"
   ]
  },
  {
   "cell_type": "code",
   "execution_count": 19,
   "metadata": {},
   "outputs": [
    {
     "name": "stdout",
     "output_type": "stream",
     "text": [
      "\n",
      "Training LSTM model...\n"
     ]
    },
    {
     "name": "stderr",
     "output_type": "stream",
     "text": [
      "c:\\Users\\DELL\\anaconda3\\Lib\\site-packages\\keras\\src\\layers\\core\\embedding.py:90: UserWarning: Argument `input_length` is deprecated. Just remove it.\n",
      "  warnings.warn(\n"
     ]
    },
    {
     "name": "stdout",
     "output_type": "stream",
     "text": [
      "Epoch 1/10\n",
      "\u001b[1m64/64\u001b[0m \u001b[32m━━━━━━━━━━━━━━━━━━━━\u001b[0m\u001b[37m\u001b[0m \u001b[1m87s\u001b[0m 1s/step - accuracy: 0.6267 - loss: 0.6897 - val_accuracy: 0.7959 - val_loss: 0.4998\n",
      "Epoch 2/10\n",
      "\u001b[1m64/64\u001b[0m \u001b[32m━━━━━━━━━━━━━━━━━━━━\u001b[0m\u001b[37m\u001b[0m \u001b[1m64s\u001b[0m 1s/step - accuracy: 0.8628 - loss: 0.3809 - val_accuracy: 0.8669 - val_loss: 0.3314\n",
      "Epoch 3/10\n",
      "\u001b[1m64/64\u001b[0m \u001b[32m━━━━━━━━━━━━━━━━━━━━\u001b[0m\u001b[37m\u001b[0m \u001b[1m65s\u001b[0m 1s/step - accuracy: 0.9356 - loss: 0.1788 - val_accuracy: 0.8363 - val_loss: 0.3868\n",
      "Epoch 4/10\n",
      "\u001b[1m64/64\u001b[0m \u001b[32m━━━━━━━━━━━━━━━━━━━━\u001b[0m\u001b[37m\u001b[0m \u001b[1m66s\u001b[0m 1s/step - accuracy: 0.9651 - loss: 0.1324 - val_accuracy: 0.8412 - val_loss: 0.4416\n",
      "Epoch 5/10\n",
      "\u001b[1m64/64\u001b[0m \u001b[32m━━━━━━━━━━━━━━━━━━━━\u001b[0m\u001b[37m\u001b[0m \u001b[1m68s\u001b[0m 1s/step - accuracy: 0.9846 - loss: 0.0640 - val_accuracy: 0.8619 - val_loss: 0.5199\n",
      "Epoch 6/10\n",
      "\u001b[1m64/64\u001b[0m \u001b[32m━━━━━━━━━━━━━━━━━━━━\u001b[0m\u001b[37m\u001b[0m \u001b[1m67s\u001b[0m 1s/step - accuracy: 0.9919 - loss: 0.0337 - val_accuracy: 0.8402 - val_loss: 0.5639\n",
      "Epoch 7/10\n",
      "\u001b[1m64/64\u001b[0m \u001b[32m━━━━━━━━━━━━━━━━━━━━\u001b[0m\u001b[37m\u001b[0m \u001b[1m68s\u001b[0m 1s/step - accuracy: 0.9946 - loss: 0.0238 - val_accuracy: 0.8422 - val_loss: 0.6645\n",
      "Epoch 8/10\n",
      "\u001b[1m64/64\u001b[0m \u001b[32m━━━━━━━━━━━━━━━━━━━━\u001b[0m\u001b[37m\u001b[0m \u001b[1m68s\u001b[0m 1s/step - accuracy: 0.9902 - loss: 0.0366 - val_accuracy: 0.8422 - val_loss: 0.6504\n",
      "Epoch 9/10\n",
      "\u001b[1m64/64\u001b[0m \u001b[32m━━━━━━━━━━━━━━━━━━━━\u001b[0m\u001b[37m\u001b[0m \u001b[1m69s\u001b[0m 1s/step - accuracy: 0.9945 - loss: 0.0202 - val_accuracy: 0.8314 - val_loss: 0.6465\n",
      "Epoch 10/10\n",
      "\u001b[1m64/64\u001b[0m \u001b[32m━━━━━━━━━━━━━━━━━━━━\u001b[0m\u001b[37m\u001b[0m \u001b[1m73s\u001b[0m 1s/step - accuracy: 0.9918 - loss: 0.0301 - val_accuracy: 0.8373 - val_loss: 0.6915\n"
     ]
    },
    {
     "data": {
      "text/plain": [
       "<keras.src.callbacks.history.History at 0x27920a9b560>"
      ]
     },
     "execution_count": 19,
     "metadata": {},
     "output_type": "execute_result"
    }
   ],
   "source": [
    "# Build and train LSTM model\n",
    "print(\"\\nTraining LSTM model...\")\n",
    "lstm_model = Sequential()\n",
    "lstm_model.add(Embedding(input_dim=5000, output_dim=100, input_length=max_sequence_length))\n",
    "lstm_model.add(LSTM(128, dropout=0.2, recurrent_dropout=0.2))\n",
    "lstm_model.add(Dense(1, activation='sigmoid'))\n",
    "lstm_model.compile(loss='binary_crossentropy', optimizer='adam', metrics=['accuracy'])\n",
    "lstm_model.fit(X_train_lstm, y_train_lstm, epochs=10, batch_size=64, validation_split=0.2, verbose=1)"
   ]
  },
  {
   "cell_type": "code",
   "execution_count": 20,
   "metadata": {},
   "outputs": [
    {
     "name": "stdout",
     "output_type": "stream",
     "text": [
      "\n",
      "LSTM Results:\n",
      "Accuracy: 0.8421468034727704\n",
      "              precision    recall  f1-score   support\n",
      "\n",
      "           0       0.86      0.81      0.84       628\n",
      "           1       0.82      0.87      0.85       639\n",
      "\n",
      "    accuracy                           0.84      1267\n",
      "   macro avg       0.84      0.84      0.84      1267\n",
      "weighted avg       0.84      0.84      0.84      1267\n",
      "\n"
     ]
    }
   ],
   "source": [
    "# Evaluate LSTM\n",
    "print(\"\\nLSTM Results:\")\n",
    "y_pred_lstm = (lstm_model.predict(X_test_lstm, verbose=0) > 0.5).astype(\"int32\")\n",
    "lstm_accuracy = accuracy_score(y_test_lstm, y_pred_lstm)\n",
    "lstm_report = classification_report(y_test_lstm, y_pred_lstm, output_dict=True)\n",
    "print(\"Accuracy:\", accuracy_score(y_test_lstm, y_pred_lstm))\n",
    "print(classification_report(y_test_lstm, y_pred_lstm))"
   ]
  },
  {
   "cell_type": "code",
   "execution_count": null,
   "metadata": {},
   "outputs": [
    {
     "name": "stdout",
     "output_type": "stream",
     "text": [
      "\n",
      "Plotting accuracy comparison...\n"
     ]
    },
    {
     "data": {
      "image/png": "[encoded data removed]",
      "text/plain": [
       "<Figure size 800x600 with 1 Axes>"
      ]
     },
     "metadata": {},
     "output_type": "display_data"
    }
   ],
   "source": [
    "import matplotlib.pyplot as plt\n",
    "\n",
    "# Plotting Accuracy \n",
    "print(\"\\nPlotting accuracy comparison...\")\n",
    "models = ['Naive Bayes', 'Random Forest', 'LSTM']\n",
    "accuracies = [nb_accuracy, rf_accuracy, lstm_accuracy]\n",
    "\n",
    "plt.figure(figsize=(8, 6))\n",
    "plt.bar(models, accuracies, color=['blue', 'green', 'orange'])\n",
    "plt.title('Model Accuracy Comparison')\n",
    "plt.xlabel('Models')\n",
    "plt.ylabel('Accuracy')\n",
    "plt.ylim(0, 1)  # Set y-axis range from 0 to 1\n",
    "for i, v in enumerate(accuracies):\n",
    "    plt.text(i, v + 0.01, f\"{v:.3f}\", ha='center')  \n",
    "plt.show()"
   ]
  },
  {
   "cell_type": "code",
   "execution_count": null,
   "metadata": {},
   "outputs": [
    {
     "name": "stdout",
     "output_type": "stream",
     "text": [
      "\n",
      "Plotting precision, recall, and F1-score comparison...\n"
     ]
    },
    {
     "data": {
      "image/png": "[encoded data removed]",
      "text/plain": [
       "<Figure size 800x600 with 1 Axes>"
      ]
     },
     "metadata": {},
     "output_type": "display_data"
    }
   ],
   "source": [
    "# Plotting Precision, Recall, F1-Score \n",
    "print(\"\\nPlotting precision, recall, and F1-score comparison...\")\n",
    "\n",
    "# Extract metrics from classification reports (using weighted avg for multi-class, or adjust for binary)\n",
    "nb_precision = nb_report['weighted avg']['precision']\n",
    "nb_recall = nb_report['weighted avg']['recall']\n",
    "nb_f1 = nb_report['weighted avg']['f1-score']\n",
    "\n",
    "rf_precision = rf_report['weighted avg']['precision']\n",
    "rf_recall = rf_report['weighted avg']['recall']\n",
    "rf_f1 = rf_report['weighted avg']['f1-score']\n",
    "\n",
    "lstm_precision = lstm_report['weighted avg']['precision']\n",
    "lstm_recall = lstm_report['weighted avg']['recall']\n",
    "lstm_f1 = lstm_report['weighted avg']['f1-score']\n",
    "\n",
    "# Data for plotting\n",
    "metrics = ['Precision', 'Recall', 'F1-Score']\n",
    "nb_metrics = [nb_precision, nb_recall, nb_f1]\n",
    "rf_metrics = [rf_precision, rf_recall, rf_f1]\n",
    "lstm_metrics = [lstm_precision, lstm_recall, lstm_f1]\n",
    "\n",
    "# Set up the bar chart\n",
    "bar_width = 0.25\n",
    "index = np.arange(len(metrics))\n",
    "\n",
    "plt.figure(figsize=(8, 6))\n",
    "plt.bar(index, nb_metrics, bar_width, label='Naive Bayes', color='blue')\n",
    "plt.bar(index + bar_width, rf_metrics, bar_width, label='Random Forest', color='green')\n",
    "plt.bar(index + 2 * bar_width, lstm_metrics, bar_width, label='LSTM', color='orange')\n",
    "\n",
    "# Add labels and title\n",
    "plt.xlabel('Metrics')\n",
    "plt.ylabel('Score')\n",
    "plt.title('Precision, Recall, and F1-Score Comparison')\n",
    "plt.xticks(index + bar_width, metrics)\n",
    "plt.ylim(0, 1)\n",
    "plt.legend(loc='lower center', bbox_to_anchor=(0.5, -0.15), ncol=3)\n",
    "\n",
    "# Add value labels on top of bars\n",
    "for i, v in enumerate(nb_metrics):\n",
    "    plt.text(i, v + 0.01, f\"{v:.3f}\", ha='center')\n",
    "for i, v in enumerate(rf_metrics):\n",
    "    plt.text(i + bar_width, v + 0.01, f\"{v:.3f}\", ha='center')\n",
    "for i, v in enumerate(lstm_metrics):\n",
    "    plt.text(i + 2 * bar_width, v + 0.01, f\"{v:.3f}\", ha='center')\n",
    "\n",
    "plt.show()"
   ]
  },
  {
   "cell_type": "code",
   "execution_count": null,
   "metadata": {},
   "outputs": [],
   "source": [
    "# Prediction Function \n",
    "def predict_fake_news(title, text):\n",
    "    \"\"\"Predict if news is fake or real using trained models.\"\"\"\n",
    "    combined_input = title + ' [SEP] ' + text\n",
    "    preprocessed_input = preprocess_text(combined_input)\n",
    "    \n",
    "    if preprocessed_input == \"\":\n",
    "        return \"Error: Input contains no valid words after preprocessing.\"\n",
    "\n",
    "    # Naive Bayes and Random Forest prediction\n",
    "    tfidf_input = vectorizer.transform([preprocessed_input])\n",
    "    nb_pred = nb_model.predict(tfidf_input)[0]\n",
    "    rf_pred = rf_model.predict(tfidf_input)[0]\n",
    "\n",
    "    # LSTM prediction\n",
    "    sequence = tokenizer.texts_to_sequences([preprocessed_input])\n",
    "    padded_sequence = pad_sequences(sequence, maxlen=max_sequence_length)\n",
    "    lstm_pred = (lstm_model.predict(padded_sequence, verbose=0) > 0.5).astype(\"int32\")[0][0]\n",
    "\n",
    "    # Convert predictions to original labels\n",
    "    nb_label = label_encoder.inverse_transform([nb_pred])[0]\n",
    "    rf_label = label_encoder.inverse_transform([rf_pred])[0]\n",
    "    lstm_label = label_encoder.inverse_transform([lstm_pred])[0]\n",
    "\n",
    "    return {\n",
    "        \"Naive Bayes\": nb_label,\n",
    "        \"Random Forest\": rf_label,\n",
    "        \"LSTM\": lstm_label\n",
    "    }"
   ]
  },
  {
   "cell_type": "code",
   "execution_count": 33,
   "metadata": {},
   "outputs": [
    {
     "name": "stdout",
     "output_type": "stream",
     "text": [
      "\n",
      "Testing prediction function...\n"
     ]
    },
    {
     "name": "stdout",
     "output_type": "stream",
     "text": [
      "Predictions for example input:\n",
      "Naive Bayes: FAKE\n",
      "Random Forest: FAKE\n",
      "LSTM: FAKE\n"
     ]
    }
   ],
   "source": [
    "# Example prediction\n",
    "print(\"\\nTesting prediction function...\")\n",
    "example_title = \"Breaking News: Aliens Land in New York!\"\n",
    "example_text = \"Scientists confirm extraterrestrial beings have arrived and are friendly.\"\n",
    "predictions = predict_fake_news(example_title, example_text)\n",
    "print(\"Predictions for example input:\")\n",
    "for model, pred in predictions.items():\n",
    "    print(f\"{model}: {pred}\")"
   ]
  },
  {
   "cell_type": "code",
   "execution_count": 34,
   "metadata": {},
   "outputs": [
    {
     "name": "stdout",
     "output_type": "stream",
     "text": [
      "\n",
      "Testing prediction function...\n",
      "Predictions for example input:\n",
      "Naive Bayes: REAL\n",
      "Random Forest: FAKE\n",
      "LSTM: FAKE\n"
     ]
    }
   ],
   "source": [
    "# Example prediction\n",
    "print(\"\\nTesting prediction function...\")\n",
    "example_title = \"Egypt unveiled a $53 billion Gaza reconstruction plan with broad backing\"\n",
    "example_text = \"Egypt unveiled a $53 billion Gaza reconstruction plan with broad backing that would not displace Palestinians. The White House says it ignores reality. The ambitious proposal aims to rebuild infrastructure destroyed in recent conflicts, focusing on housing, schools, and hospitals. Egyptian officials argue it’s a viable path to stability, supported by regional allies, but U.S. officials have expressed skepticism about its feasibility given ongoing political tensions.\"\n",
    "predictions = predict_fake_news(example_title, example_text)\n",
    "print(\"Predictions for example input:\")\n",
    "for model, pred in predictions.items():\n",
    "    print(f\"{model}: {pred}\")"
   ]
  },
  {
   "cell_type": "markdown",
   "metadata": {},
   "source": [
    "###  1. Data Preprocessing\n",
    "\n",
    "### Loading and Cleaning Data:\n",
    "\n",
    "Loaded the dataset from news.csv using pandas.\n",
    "Removed rows with missing values in the title, text, or label columns to ensure data quality.\n",
    "\n",
    "### Text Preprocessing:\n",
    "\n",
    "Created a combined column by merging title and text with a [SEP] separator.\n",
    "Applied text cleaning steps:\n",
    "Converted text to lowercase.\n",
    "Removed punctuation and numbers.\n",
    "Eliminated stopwords using NLTK.\n",
    "Performed lemmatization to reduce words to their base forms.\n",
    "Dropped rows where the combined column became empty after preprocessing.\n",
    "Label Encoding:\n",
    "Converted the label column (e.g., \"fake\" or \"real\") into numerical values using LabelEncoder for model compatibility.\n",
    "\n",
    "## 2. Feature Extraction\n",
    "For Naive Bayes and Random Forest:\n",
    "Transformed the combined text into numerical features using TfidfVectorizer.\n",
    "Limited the feature set to 5,000 maximum features to balance complexity and performance.\n",
    "### For LSTM:\n",
    "Tokenized the combined text using Keras' Tokenizer, restricting it to the top 5,000 words.\n",
    "Padded sequences to a uniform length of 500 tokens to ensure consistent input for the LSTM model.\n",
    "\n",
    "## 3. Model Training and Evaluation\n",
    "\n",
    "### Data Splitting:\n",
    "Divided the dataset into 80% training and 20% testing sets to evaluate model performance.\n",
    "###  Model Training:\n",
    "\n",
    "#### Naive Bayes:\n",
    "\n",
    "Trained a MultinomialNB classifier using TF-IDF features.\n",
    "#### Random Forest:\n",
    "Trained a RandomForestClassifier with 100 estimators on TF-IDF features.\n",
    "\n",
    "#### LSTM:\n",
    "\n",
    "Built a sequential neural network with:\n",
    "An Embedding layer.\n",
    "An LSTM layer.\n",
    "A Dense output layer.\n",
    "Trained the model for 10 epochs.\n",
    "#### Evaluation:\n",
    "\n",
    "Measured performance using accuracy and detailed classification reports (precision, recall, F1-score) for each model.\n",
    "## 4. Visualization\n",
    "\n",
    "### Accuracy Comparison:\n",
    "\n",
    "Created a bar chart to visually compare the accuracy of Naive Bayes, Random Forest, and LSTM models.\n",
    "Precision, Recall, F1-Score Comparison:\n",
    "Generated a grouped bar chart displaying the weighted average precision, recall, and F1-score across all three models.\n",
    "## 5. Prediction Function\n",
    "Implemented a predict_fake_news function to classify new text inputs using all three trained models (Naive Bayes, Random Forest, and LSTM)."
   ]
  },
  {
   "cell_type": "markdown",
   "metadata": {},
   "source": []
  }
 ],
 "metadata": {
  "kernelspec": {
   "display_name": "base",
   "language": "python",
   "name": "python3"
  },
  "language_info": {
   "codemirror_mode": {
    "name": "ipython",
    "version": 3
   },
   "file_extension": ".py",
   "mimetype": "text/x-python",
   "name": "python",
   "nbconvert_exporter": "python",
   "pygments_lexer": "ipython3",
   "version": "3.12.4"
  }
 },
 "nbformat": 4,
 "nbformat_minor": 2
}
